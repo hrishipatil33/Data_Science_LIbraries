{
 "cells": [
  {
   "cell_type": "code",
   "execution_count": 2,
   "metadata": {},
   "outputs": [
    {
     "name": "stdout",
     "output_type": "stream",
     "text": [
      "[ 1  2 34  5]\n",
      "[10 11 12 13 14 15]\n"
     ]
    }
   ],
   "source": [
    "import numpy as np #here np is alais name\n",
    "#creating an arrray\n",
    "a=np.array([1,2,34,5])\n",
    "print(a)\n",
    " #we also create array within particular range \n",
    "b=np.arange(10,16)\n",
    "print(b)"
   ]
  },
  {
   "cell_type": "code",
   "execution_count": 7,
   "metadata": {},
   "outputs": [
    {
     "name": "stdout",
     "output_type": "stream",
     "text": [
      "-2.0000000000000004\n"
     ]
    }
   ],
   "source": [
    "# import numpy as np\n",
    "\n",
    "# A = np.array([[30,31,40], [41,50,51], [60,61,70]])\n",
    "\n",
    "# print(np.linalg.det(A))\n",
    "# import numpy as np\n",
    "\n",
    "# A = np.array([[20,10],[50,10]])\n",
    "\n",
    "# print(\"\\nTrace of A:\", np.trace(A))\n",
    "import numpy as np\n",
    "\n",
    "# A = np.array([[-3,2,-5],[2,-3,4],[1,1,1]])\n",
    "\n",
    "# B = np.array([[3,2],[1,4],[5,3]])\n",
    "\n",
    "# C = np.dot(A,B)\n",
    "\n",
    "# C.shape\n",
    "# import numpy as np\n",
    "\n",
    "# a = np.array([[2,3],[5,-4]])\n",
    "\n",
    "# b = np.array([20,27])\n",
    "\n",
    "# res = np.linalg.solve(a,b)\n",
    "\n",
    "# print(res)\n",
    "import numpy as np \n",
    "# A = np.array([[55,5],[35,15]])\n",
    "\n",
    "# eig_val,eig_vec = np.linalg.eig(A)\n",
    "\n",
    "# print('Eigen values\\n',eig_val)\n",
    "\n",
    "# print('Eigen vector\\n',eig_vec)\n",
    "A = np.array([[1,2],[3,4]])\n",
    "\n",
    "print(np.linalg.det(A))"
   ]
  },
  {
   "cell_type": "code",
   "execution_count": 5,
   "metadata": {},
   "outputs": [
    {
     "name": "stdout",
     "output_type": "stream",
     "text": [
      "[[0. 0. 0.]\n",
      " [0. 0. 0.]\n",
      " [0. 0. 0.]]\n"
     ]
    }
   ],
   "source": [
    "# creating zero value array\n",
    "a=np.zeros((3,3))\n",
    "print(a)"
   ]
  },
  {
   "cell_type": "code",
   "execution_count": 7,
   "metadata": {},
   "outputs": [
    {
     "name": "stdout",
     "output_type": "stream",
     "text": [
      "[[1. 1. 1.]\n",
      " [1. 1. 1.]]\n"
     ]
    }
   ],
   "source": [
    "#creating 1 value array\n",
    "a=np.ones((2,3))\n",
    "print(a)"
   ]
  },
  {
   "cell_type": "code",
   "execution_count": 8,
   "metadata": {},
   "outputs": [
    {
     "name": "stdout",
     "output_type": "stream",
     "text": [
      "[1 2 3 4 5 6]\n",
      "[1 2 3 4 5 7]\n"
     ]
    }
   ],
   "source": [
    "#creating  from list ,tuplee\n",
    "list=[1,2,3,4,5,6]\n",
    "tup=(1,2,3,4,5,7)\n",
    "l=np.array(list)\n",
    "print(l)\n",
    "t=np.array(tup)\n",
    "print(t)\n"
   ]
  },
  {
   "cell_type": "code",
   "execution_count": 29,
   "metadata": {},
   "outputs": [
    {
     "name": "stdout",
     "output_type": "stream",
     "text": [
      "[[ 1  2  3]\n",
      " [ 4  5  6]\n",
      " [ 7  8  9]\n",
      " [10 11 12]]\n",
      "12\n",
      "2\n",
      "(4, 3)\n",
      "int32\n",
      "[[ 1  2]\n",
      " [ 3  4]\n",
      " [ 5  6]\n",
      " [ 7  8]\n",
      " [ 9 10]\n",
      " [11 12]]\n",
      "or we can directly use reshpae() at the time of creatiom\n",
      "[[12  1  3  4]\n",
      " [ 5  6  7  8]\n",
      " [ 8 91 11 12]]\n"
     ]
    }
   ],
   "source": [
    "a=np.array([[1,2,3],[4,5,6],[7,8,9],[10,11,12]])\n",
    "print(a)\n",
    "print(a.size)\n",
    "print(a.ndim)\n",
    "print(a.shape)\n",
    "print(a.dtype)\n",
    "\n",
    "# we can also change the shape of an array\n",
    "#for that purspose the shape is between the factor of size\n",
    "a.shape=(6,2)\n",
    "print(a)\n",
    "\n",
    "print('or we can directly use reshpae() at the time of creatiom')\n",
    "c=np.array([12,1,3,4,5,6,7,8,8,91,11,12]).reshape(3,4)\n",
    "print(c)"
   ]
  },
  {
   "cell_type": "code",
   "execution_count": 31,
   "metadata": {},
   "outputs": [
    {
     "name": "stdout",
     "output_type": "stream",
     "text": [
      "[ 1  4  9 16 25 42]\n"
     ]
    }
   ],
   "source": [
    "#Broadcasting an array\n",
    "list=[1,2,3,4,5,6]\n",
    "tup=(1,2,3,4,5,7)\n",
    "l=np.array(list)\n",
    "t=np.array(tup)\n",
    "\n",
    "#c=l+t\n",
    "c=l*t\n",
    "print(c)"
   ]
  },
  {
   "cell_type": "code",
   "execution_count": 32,
   "metadata": {},
   "outputs": [
    {
     "name": "stdout",
     "output_type": "stream",
     "text": [
      "[[ 8 10 12]\n",
      " [14 16 18]]\n"
     ]
    }
   ],
   "source": [
    "#broadcasting nd array\n",
    "#here the array must be same dimension foe any operations\n",
    "#the operations are performed element wise not matrix wise\n",
    "x=np.array([[1,2,3],[4,5,6]])\n",
    "y=np.array([[7,8,9],[10,11,12]])\n",
    "print(x+y)"
   ]
  },
  {
   "cell_type": "code",
   "execution_count": 42,
   "metadata": {},
   "outputs": [
    {
     "name": "stdout",
     "output_type": "stream",
     "text": [
      "[10 15 20 25 30]\n",
      "(array([10, 15, 20, 25, 30]), 5.0)\n"
     ]
    }
   ],
   "source": [
    "#Generating linerly spaced elemnts \n",
    "z=np.linspace(10,30,5, dtype=int)\n",
    "#here the array is generated from range 10 to 30 with size of 5\n",
    "#the default datatype is float \n",
    "#u can change it using dtype= data type name\n",
    "print(z)\n",
    "y=np.linspace(10,30,5, dtype=int, retstep=True)\n",
    "#the retstepis used to get linear difference betwenn them\n",
    "print(y)\n"
   ]
  },
  {
   "cell_type": "code",
   "execution_count": 48,
   "metadata": {},
   "outputs": [
    {
     "name": "stdout",
     "output_type": "stream",
     "text": [
      "[1 2 3 4 3 5]\n",
      "[1 2 3 4 5 5]\n"
     ]
    }
   ],
   "source": [
    "#view() and copy()\n",
    "a=np.array([1,2,3,4,5,5])\n",
    "\n",
    "a1=np.copy(a)\n",
    "#if we cange some value in array wont reflect in copy\n",
    "a[4]=3\n",
    "print(a)\n",
    "print(a1)\n",
    "\n",
    "\n",
    "\n"
   ]
  },
  {
   "cell_type": "code",
   "execution_count": 51,
   "metadata": {},
   "outputs": [
    {
     "name": "stdout",
     "output_type": "stream",
     "text": [
      "[1 2 3 4 3 5]\n",
      "[1 2 3 4 5 5] \n",
      "\n",
      "[1 2 3 4 3 5]\n",
      "[1 2 3 4 3 5]\n"
     ]
    }
   ],
   "source": [
    "#the view araay also used to copy the array but any changes happen in array or copy of an array it we made to array\n",
    "ba=np.array([1,2,3,4,5,5])\n",
    "print(a)\n",
    "ba1=ba.view()\n",
    "print(ba1,\"\\n\")\n",
    "\n",
    "ba[4]=3\n",
    "print(ba)\n",
    "print(ba1)"
   ]
  },
  {
   "cell_type": "code",
   "execution_count": 54,
   "metadata": {},
   "outputs": [
    {
     "name": "stdout",
     "output_type": "stream",
     "text": [
      "0.8002197899713684\n"
     ]
    }
   ],
   "source": [
    "#we can also create array from random elements\\\n",
    "a=np.random.random()\n",
    "print(a)\n",
    "#genrate random elemnts ranging from 0 to 1"
   ]
  },
  {
   "cell_type": "code",
   "execution_count": 55,
   "metadata": {},
   "outputs": [
    {
     "name": "stdout",
     "output_type": "stream",
     "text": [
      "16\n"
     ]
    }
   ],
   "source": [
    "x=np.random.randint(10,20)\n",
    "print(x)\n",
    "#generate the array ement in range 10 and 20"
   ]
  },
  {
   "cell_type": "code",
   "execution_count": 57,
   "metadata": {},
   "outputs": [
    {
     "name": "stdout",
     "output_type": "stream",
     "text": [
      "[23 28 23 19 25]\n"
     ]
    }
   ],
   "source": [
    "z=np.random.randint(10,30,5)\n",
    "#genrated random array of size 5\n",
    "print(z)"
   ]
  },
  {
   "cell_type": "code",
   "execution_count": 66,
   "metadata": {},
   "outputs": [
    {
     "name": "stdout",
     "output_type": "stream",
     "text": [
      "[3 3 6]\n"
     ]
    }
   ],
   "source": [
    "s=np.random.choice([1,2,3,4,5,6,7], size=3)\n",
    "print(s)\n",
    "#give random sample from 1d array odf mentiones size"
   ]
  },
  {
   "cell_type": "markdown",
   "metadata": {},
   "source": [
    "Slicing in Numpy Arrays"
   ]
  },
  {
   "cell_type": "code",
   "execution_count": 19,
   "metadata": {},
   "outputs": [
    {
     "name": "stdout",
     "output_type": "stream",
     "text": [
      "[20 21 22 23 24 25 26 27 28 29]\n",
      "[20 22 24 26 28]\n",
      "[29 28 27 26 25 24 23 22 21 20]\n",
      "29\n",
      "25\n",
      "[23 24 25 26]\n",
      "[28 26 24]\n"
     ]
    }
   ],
   "source": [
    "#slicing in numppy arrays it used to iterate ove rthe arrays\n",
    "#a[star:end:step]\n",
    "import numpy as np \n",
    "a=np.array([20 ,21, 22, 23, 24, 25 ,26 ,27 ,28 ,29])\n",
    "print(a)\n",
    "print(a[::2])\n",
    "print(a[::-1])#reverse \n",
    "print(a[-1])\n",
    "print(a[-5])\n",
    "print(a[3:-3])\n",
    "print(a[-2:-8:-2])\n",
    "\n",
    "\n"
   ]
  },
  {
   "cell_type": "code",
   "execution_count": 61,
   "metadata": {},
   "outputs": [
    {
     "name": "stdout",
     "output_type": "stream",
     "text": [
      "[[31 32 33 34]\n",
      " [35 36 37 38]\n",
      " [39 40 41 42]\n",
      " [43 44 45 46]]\n",
      "37\n",
      "[[41 42]\n",
      " [45 46]] \n",
      "\n",
      "36 42 \n",
      "\n",
      "[[45 46]] \n",
      "\n",
      "[[43 44 45]\n",
      " [39 40 41]] \n",
      "\n",
      "[[31 34]\n",
      " [43 46]] \n",
      "\n",
      "[[46 43]\n",
      " [34 31]] \n",
      "\n",
      "[38 46]\n",
      "[36 32]\n"
     ]
    }
   ],
   "source": [
    "#slicing with the numpy array\n",
    "d=np.arange(31,47).reshape(4,4)\n",
    "print(d)\n",
    "\n",
    "print(d[1][2])\n",
    "print(d[-2:,-2:],\"\\n\")\n",
    "print(d[-3,-3],d[-2,-1],\"\\n\")\n",
    "print(d[:2:-1,2::],\"\\n\")\n",
    "print(d[:1:-1,:3],\"\\n\")\n",
    "print(d[0::3,0::3],\"\\n\")\n",
    "print(d[-1::-3,-1::-3],\"\\n\")\n",
    "print(d[1::2,3])\n",
    "print(d[-3::-1,-3])\n"
   ]
  },
  {
   "cell_type": "code",
   "execution_count": 70,
   "metadata": {},
   "outputs": [
    {
     "name": "stdout",
     "output_type": "stream",
     "text": [
      "[[31 32 33 34]\n",
      " [35 36 37 38]\n",
      " [39 40 41 42]\n",
      " [43 44 45 46]]\n",
      "[[31 33]\n",
      " [39 41]] \n",
      "\n",
      "[[37 38]\n",
      " [41 42]\n",
      " [45 46]] \n",
      "\n",
      "[[31 32 33 34]\n",
      " [39 40 41 42]] \n",
      "\n",
      "[[38]\n",
      " [42]\n",
      " [46]] \n",
      "\n",
      "[[36 37]\n",
      " [40 41]] \n",
      "\n",
      "[[42 41 40]\n",
      " [34 33 32]]\n",
      "[31 36 37]\n"
     ]
    }
   ],
   "source": [
    "d=np.arange(31,47).reshape(4,4)\n",
    "print(d)\n",
    "\n",
    "print(d[::2,::2],\"\\n\")\n",
    "print(d[1:,2:],\"\\n\")\n",
    "print(d[::2,:],\"\\n\")\n",
    "print(d[1:,3:],\"\\n\")\n",
    "print(d[1:3,1:3],\"\\n\")\n",
    "print(d[-2::-2,-1:0:-1])\n",
    "print(d[[0,1,1],[0,1,2]])"
   ]
  },
  {
   "cell_type": "markdown",
   "metadata": {},
   "source": [
    "--------------------------------------Array Operations using Numpy--------------------------------"
   ]
  },
  {
   "cell_type": "markdown",
   "metadata": {},
   "source": [
    "Sum() "
   ]
  },
  {
   "cell_type": "code",
   "execution_count": 14,
   "metadata": {},
   "outputs": [
    {
     "name": "stdout",
     "output_type": "stream",
     "text": [
      "[[12 13 14]\n",
      " [12 13 14]] \n",
      "\n",
      "78 \n",
      "\n",
      "[[[ 1  2]\n",
      "  [ 3  4]\n",
      "  [ 5  6]\n",
      "  [ 7  8]]\n",
      "\n",
      " [[ 9 10]\n",
      "  [11 12]\n",
      "  [13 14]\n",
      "  [15 16]]]\n",
      "136\n"
     ]
    }
   ],
   "source": [
    "import numpy as np \n",
    "a=np.array([[12,13,14],[12,13,14]])\n",
    "print(a,\"\\n\")\n",
    "#Np.sum() can perform the addition of all the elemnts in the array\n",
    "sum=np.sum(a)\n",
    "print(sum,\"\\n\")\n",
    "\n",
    "#lets try 3D array\n",
    "list=[1,2,3,4,5,6,7,8,9,10,11,12,13,14,15,16]\n",
    "b=np.array(list).reshape(2,4,2)\n",
    "print(b)\n",
    "\n",
    "sum3D=np.sum(b)\n",
    "print(sum3D)\n",
    "\n"
   ]
  },
  {
   "cell_type": "markdown",
   "metadata": {},
   "source": [
    "MIN() AND MAX()"
   ]
  },
  {
   "cell_type": "code",
   "execution_count": 23,
   "metadata": {},
   "outputs": [
    {
     "name": "stdout",
     "output_type": "stream",
     "text": [
      "[[ 1  2  3  4]\n",
      " [ 5  6  7  8]\n",
      " [ 9 10 11 12]\n",
      " [13 14 15 16]]\n",
      "The mimimum elemnt is 1\n",
      "The maximun element is 16 \n",
      "\n",
      "The minimun elemnt in each row [ 1  5  9 13]\n",
      "The maximum elelemnt in each row [ 4  8 12 16] \n",
      "\n",
      "The minimun elemnt in each column [1 2 3 4]\n",
      "The maximum elelemnt in each column [13 14 15 16]\n"
     ]
    }
   ],
   "source": [
    "list=[1,2,3,4,5,6,7,8,9,10,11,12,13,14,15,16]\n",
    "arr=np.array(list).reshape(4,4)\n",
    "print(arr)\n",
    "\n",
    "#Finding minimun in entire array\n",
    "print(\"The mimimum elemnt is\",np.min(arr))\n",
    "print(\"The maximun element is\",np.max(arr),\"\\n\")\n",
    "\n",
    "#finding max and min row wise\n",
    "print(\"The minimun elemnt in each row\",arr.min(axis=1))\n",
    "print(\"The maximum elelemnt in each row\",arr.max(axis=1),\"\\n\")\n",
    "\n",
    "#finding max and min column wise\n",
    "print(\"The minimun elemnt in each column\",arr.min(axis=0),)\n",
    "print(\"The maximum elelemnt in each column\",arr.max(axis=0))"
   ]
  },
  {
   "cell_type": "markdown",
   "metadata": {},
   "source": [
    "argmin() and argmax()  This return the indices of the manimum and maximum elemts in an array"
   ]
  },
  {
   "cell_type": "code",
   "execution_count": 28,
   "metadata": {},
   "outputs": [
    {
     "name": "stdout",
     "output_type": "stream",
     "text": [
      "[[11 23 44  5]\n",
      " [66 87 11 42]\n",
      " [77 25 12 22]\n",
      " [13 56  8 16]]\n",
      "The mimimum elemnt is 5\n",
      "The index of minimum element is 3 \n",
      "\n",
      "The maximun element is 87\n",
      "The index of maximum element is 5 \n",
      "\n",
      "The minimun elemnt in each row [ 5 11 12  8]\n",
      "The indeices of minimun elemnt in each row [3 2 2 2] \n",
      "\n",
      "The maximum elelemnt in each row [44 87 77 56]\n",
      "The indices of maximum elemnt in each row [2 1 0 1] \n",
      "\n",
      "The minimun elemnt in each column [11 23  8  5]\n",
      "The indeices of minimun elemnt in each column [0 0 3 0] \n",
      "\n",
      "The maximum elelemnt in each column [77 87 44 42]\n",
      "The indices of maximum elemnt in each colimn [2 1 0 1] \n",
      "\n"
     ]
    }
   ],
   "source": [
    "list=[11,23,44,5,66,87,11,42,77,25,12,22,13,56,8,16]\n",
    "arr=np.array(list).reshape(4,4)\n",
    "print(arr)\n",
    "\n",
    "#Finding minimun in entire array\n",
    "print(\"The mimimum elemnt is\",np.min(arr))\n",
    "print(\"The index of minimum element is\",np.argmin(arr),\"\\n\")\n",
    "\n",
    "print(\"The maximun element is\",np.max(arr))\n",
    "print(\"The index of maximum element is\",np.argmax(arr),\"\\n\")\n",
    "\n",
    "#finding max and min row wise\n",
    "print(\"The minimun elemnt in each row\",arr.min(axis=1))\n",
    "print(\"The indeices of minimun elemnt in each row\",arr.argmin(axis=1),\"\\n\")\n",
    "\n",
    "print(\"The maximum elelemnt in each row\",arr.max(axis=1))\n",
    "print(\"The indices of maximum elemnt in each row\",arr.argmax(axis=1),\"\\n\")\n",
    "\n",
    "#finding max and min column wise\n",
    "print(\"The minimun elemnt in each column\",arr.min(axis=0))\n",
    "print(\"The indeices of minimun elemnt in each column\",arr.argmin(axis=0),\"\\n\")\n",
    "\n",
    "print(\"The maximum elelemnt in each column\",arr.max(axis=0))\n",
    "print(\"The indices of maximum elemnt in each colimn\",arr.argmax(axis=0),\"\\n\")"
   ]
  },
  {
   "cell_type": "markdown",
   "metadata": {},
   "source": [
    "sort()  used to sort arrys in numpy"
   ]
  },
  {
   "cell_type": "code",
   "execution_count": 38,
   "metadata": {},
   "outputs": [
    {
     "name": "stdout",
     "output_type": "stream",
     "text": [
      "[[11 23 44  5]\n",
      " [66 87 11 42]\n",
      " [77 25 12 22]\n",
      " [13 56  8 16]] \n",
      "\n",
      "By default elemts are sorted row wise \n",
      "[[ 5 11 23 44]\n",
      " [11 42 66 87]\n",
      " [12 22 25 77]\n",
      " [ 8 13 16 56]] \n",
      "\n",
      "The elements in array are sorted row wise\n",
      "[[ 5 11 23 44]\n",
      " [11 42 66 87]\n",
      " [12 22 25 77]\n",
      " [ 8 13 16 56]] \n",
      "\n",
      "sorting array elemnts column wise\n",
      "[[11 23  8  5]\n",
      " [13 25 11 16]\n",
      " [66 56 12 22]\n",
      " [77 87 44 42]]\n"
     ]
    }
   ],
   "source": [
    "list=[11,23,44,5,66,87,11,42,77,25,12,22,13,56,8,16]\n",
    "d=np.array(list).reshape(4,4)\n",
    "print(d,\"\\n\")\n",
    "\n",
    "\n",
    "#sorting an array\n",
    "print(\"By default elemts are sorted row wise \")\n",
    "print(np.sort(d),\"\\n\")\n",
    "\n",
    "#sorting an array row wise\n",
    "print(\"The elements in array are sorted row wise\")\n",
    "print(np.sort(arr,axis=1),\"\\n\")\n",
    "\n",
    "print(\"sorting array elemnts column wise\")\n",
    "print(np.sort(arr,axis=0))\n"
   ]
  },
  {
   "cell_type": "markdown",
   "metadata": {},
   "source": [
    "where()  return the index number for maching conditio"
   ]
  },
  {
   "cell_type": "code",
   "execution_count": 45,
   "metadata": {},
   "outputs": [
    {
     "name": "stdout",
     "output_type": "stream",
     "text": [
      "[[10 11 12]\n",
      " [13 14 15]\n",
      " [16 17 18]\n",
      " [19 20 21]] \n",
      "\n",
      "(array([0, 1, 1, 2, 3, 3], dtype=int64), array([1, 0, 2, 1, 0, 2], dtype=int64)) \n",
      "\n",
      "(array([2, 2, 2, 3, 3, 3], dtype=int64), array([0, 1, 2, 0, 1, 2], dtype=int64))\n",
      "\n",
      "\n",
      "[[15 16 17]\n",
      " [18 19 30]\n",
      " [32 34 36]\n",
      " [38 40 42]]\n"
     ]
    }
   ],
   "source": [
    "b=np.arange(10,22)\n",
    "b.shape=(4,3)\n",
    "print(b,\"\\n\")\n",
    "\n",
    "#suppose we wat to find the ood number then we simply apply the condtion in where()\n",
    "#so that where () gives index where these elents are present \n",
    "odd=np.where(b%2!=0)\n",
    "print(odd,\"\\n\")\n",
    "\n",
    "#give the elemets in array which are greather than 15 \n",
    "#where() gives the index where these elemets present\n",
    "print(np.where(b>15))\n",
    "print(\"\\n\")\n",
    "\n",
    "\n",
    "#we can also give three parametrs whicg return the modified vales\n",
    "#if b<15 add 5 to to values else multiply it by 2\n",
    "\n",
    "ans=np.where(b<15,b+5,b*2)\n",
    "print(ans)\n",
    "\n"
   ]
  },
  {
   "cell_type": "markdown",
   "metadata": {},
   "source": [
    "extract()  directly returns the values in the condition applied array"
   ]
  },
  {
   "cell_type": "code",
   "execution_count": 54,
   "metadata": {},
   "outputs": [
    {
     "name": "stdout",
     "output_type": "stream",
     "text": [
      "[[10 11 12]\n",
      " [13 14 15]\n",
      " [16 17 18]\n",
      " [19 20 21]] \n",
      "\n",
      "[10 12 14 16 18 20] \n",
      "\n",
      "[16 17 18 19 20 21]\n",
      "[12 15 18 21]\n"
     ]
    }
   ],
   "source": [
    "#it takes two parameters one is condition and second the array on which condtion should be applied\n",
    "b=np.arange(10,22)\n",
    "b.shape=(4,3)\n",
    "print(b,\"\\n\")\n",
    "\n",
    "\n",
    "#we can print values in array which are even\n",
    "print(np.extract(b%2==0,b),\"\\n\")\n",
    "\n",
    "\n",
    "#we can get values greather than 15\n",
    "print(np.extract(b>15,b))\n",
    "\n",
    "#we can increment the values in array\n",
    "\n",
    "print(np.extract(b%3==0,b))"
   ]
  },
  {
   "cell_type": "markdown",
   "metadata": {},
   "source": [
    "Numpy Concatenate() function\n"
   ]
  },
  {
   "cell_type": "code",
   "execution_count": 1,
   "metadata": {},
   "outputs": [
    {
     "name": "stdout",
     "output_type": "stream",
     "text": [
      "[22  3 41 55  7 22  3 41 55  7]\n",
      "\n",
      "\n",
      "[11 16 39 38  4 22  3 41 55  7]\n"
     ]
    }
   ],
   "source": [
    "import numpy as np \n",
    "#concatenate() used to cobime the two arrays \n",
    "a1=np.array([22,3,41,55,7])\n",
    "a2=np.array([11,16,39,38,4])\n",
    "\n",
    "b1=np.concatenate([a1,a1])\n",
    "print(b1)\n",
    "print(\"\\n\")\n",
    "\n",
    "\n",
    "b2=np.concatenate([a2,a1])\n",
    "print(b2)"
   ]
  },
  {
   "cell_type": "code",
   "execution_count": 3,
   "metadata": {},
   "outputs": [
    {
     "name": "stdout",
     "output_type": "stream",
     "text": [
      "[[22 33 11 99]\n",
      " [44 77 45  2]\n",
      " [ 1  2  3  4]\n",
      " [ 5  6  7  8]] \n",
      "\n",
      "[[22 33 11 99  1  2  3  4]\n",
      " [44 77 45  2  5  6  7  8]]\n"
     ]
    }
   ],
   "source": [
    "#concatenate() for 2D array\n",
    "\n",
    "d1=np.array([[22,33,11,99],[44,77,45,2]])\n",
    "d2=np.array([[1,2,3,4],[5,6,7,8]])\n",
    "\n",
    "#the one array concatenated other by column wise .\n",
    "ans=np.concatenate([d1,d2],axis=0)\n",
    "print(ans,\"\\n\")\n",
    "\n",
    "#one array is concatenated to other row wise\n",
    "ans1=np.concatenate([d1,d2],axis=1)\n",
    "print(ans1)\n"
   ]
  },
  {
   "cell_type": "markdown",
   "metadata": {},
   "source": [
    "hstack() ans vstack()   Stacks the array horizontally and vertically res."
   ]
  },
  {
   "cell_type": "code",
   "execution_count": 6,
   "metadata": {},
   "outputs": [
    {
     "name": "stdout",
     "output_type": "stream",
     "text": [
      "[[22 33 11 99  1  2  3  4]\n",
      " [44 77 45  2  5  6  7  8]] \n",
      "\n",
      "[[22 33 11 99]\n",
      " [44 77 45  2]\n",
      " [ 1  2  3  4]\n",
      " [ 5  6  7  8]]\n"
     ]
    }
   ],
   "source": [
    "import numpy as np \n",
    "\n",
    "d1=np.array([[22,33,11,99],[44,77,45,2]])\n",
    "d2=np.array([[1,2,3,4],[5,6,7,8]])\n",
    "\n",
    "\n",
    "#hstack()-- the new row are created  horizontaly placed infont of existing array row\n",
    "hstak=np.hstack((d1,d2))\n",
    "print(hstak,\"\\n\")\n",
    "\n",
    "\n",
    "#vstack -- the colums are created right below the existing array columns\n",
    "vstack=np.vstack([d1,d2])\n",
    "print(vstack)\n"
   ]
  },
  {
   "cell_type": "markdown",
   "metadata": {},
   "source": [
    "hsplit() and vsplit() in Numpy  split the array into multiple sub array  horizontaly and verically\n"
   ]
  },
  {
   "cell_type": "code",
   "execution_count": 14,
   "metadata": {},
   "outputs": [
    {
     "name": "stdout",
     "output_type": "stream",
     "text": [
      "[[ 1  2  3  4]\n",
      " [ 5  6  7  8]\n",
      " [ 9 10 11 12]] \n",
      "\n",
      "[array([[ 1,  2],\n",
      "       [ 5,  6],\n",
      "       [ 9, 10]]), array([[ 3,  4],\n",
      "       [ 7,  8],\n",
      "       [11, 12]])] \n",
      "\n",
      "[array([[1, 2, 3, 4]]), array([[5, 6, 7, 8]]), array([[ 9, 10, 11, 12]])]\n"
     ]
    }
   ],
   "source": [
    "d=np.arange(1,13).reshape(3,4)\n",
    "print(d,\"\\n\")\n",
    "\n",
    "\n",
    "#split the array into two parts equaly by column wise\n",
    "split=np.hsplit(d,2)\n",
    "print(split,\"\\n\")\n",
    "\n",
    "\n",
    "#split the array into three parts equaly by row wise\n",
    "split1=np.vsplit(d,3)\n",
    "print(split1)"
   ]
  },
  {
   "cell_type": "markdown",
   "metadata": {},
   "source": [
    "Solving Linear Regression Using Numpy"
   ]
  },
  {
   "cell_type": "code",
   "execution_count": 15,
   "metadata": {},
   "outputs": [
    {
     "name": "stdout",
     "output_type": "stream",
     "text": [
      "[7. 2.]\n"
     ]
    }
   ],
   "source": [
    "#suppose there are two euations\n",
    "#2x+3y=20   and\n",
    "#5x-4y=27  and problem is to find values of  x and y\n",
    "\n",
    "a=np.array([[2,3],[5,-4]])\n",
    "b=np.array([20,27])\n",
    "res=np.linalg.solve(a,b)\n",
    "print(res)"
   ]
  },
  {
   "cell_type": "code",
   "execution_count": 4,
   "metadata": {},
   "outputs": [
    {
     "name": "stdout",
     "output_type": "stream",
     "text": [
      "[-1.82861897  4.60399334 -4.90848586]\n"
     ]
    }
   ],
   "source": [
    "#8x+3y-2z=9    -4x+7y+5z=15    3x-4y-12z=35  in find values of x y and z\n",
    "a=np.array([[8,3,-2],[-4,7,5],[3,-4,-12]])\n",
    "b=np.array([9,15,35])\n",
    "res=np.linalg.solve(a,b)\n",
    "print(res)"
   ]
  },
  {
   "cell_type": "markdown",
   "metadata": {},
   "source": [
    "Dot product of arrays are equivalent to the matrix multiplicaion in arrays.\n",
    "The rows dimension from one matrix  must be same as column dimension in second array\n"
   ]
  },
  {
   "cell_type": "code",
   "execution_count": 8,
   "metadata": {},
   "outputs": [
    {
     "name": "stdout",
     "output_type": "stream",
     "text": [
      "(3, 3)\n",
      "(3, 2)\n",
      "[[42 44]\n",
      " [36 49]\n",
      " [40 28]]\n"
     ]
    }
   ],
   "source": [
    "a=np.array([[9,5,2],[1,8,5],[3,1,6]])\n",
    "print(a.shape)\n",
    "b=np.array([[3,2],[1,4],[5,3]])\n",
    "print(b.shape)\n",
    "ans=np.dot(a,b)\n",
    "print(ans)"
   ]
  },
  {
   "cell_type": "code",
   "execution_count": 17,
   "metadata": {},
   "outputs": [
    {
     "name": "stdout",
     "output_type": "stream",
     "text": [
      "[[2 3]\n",
      " [1 2]]\n",
      "[[ 2. -3.]\n",
      " [-1.  2.]]\n",
      "[[1. 0.]\n",
      " [0. 1.]]\n"
     ]
    }
   ],
   "source": [
    "a=np.array([[2,3],[1,2]])\n",
    "inv=np.linalg.inv(a)\n",
    "print(a)\n",
    "print(inv)\n",
    "ans=np.dot(a,inv)\n",
    "print(ans)\n"
   ]
  },
  {
   "cell_type": "markdown",
   "metadata": {},
   "source": [
    "Detrminant of Matrix array"
   ]
  },
  {
   "cell_type": "code",
   "execution_count": 20,
   "metadata": {},
   "outputs": [
    {
     "name": "stdout",
     "output_type": "stream",
     "text": [
      "[[5 3]\n",
      " [2 4]]\n",
      "14.0\n"
     ]
    }
   ],
   "source": [
    "w=np.array([[5,3],[2,4]])\n",
    "print(w)\n",
    "detr=np.linalg.det(w)\n",
    "print(round(detr,2))"
   ]
  },
  {
   "cell_type": "markdown",
   "metadata": {},
   "source": [
    "Trace() - It will calculate the sum of primary diagonal elements"
   ]
  },
  {
   "cell_type": "code",
   "execution_count": 22,
   "metadata": {},
   "outputs": [
    {
     "name": "stdout",
     "output_type": "stream",
     "text": [
      "[[ 3  6  2]\n",
      " [ 9 12  7]\n",
      " [22 18 15]]\n",
      "30\n"
     ]
    }
   ],
   "source": [
    "n=np.array([[3,6,2],[9,12,7],[22,18,15]])\n",
    "print(n)\n",
    "ans=np.trace(n)\n",
    "print(ans)"
   ]
  },
  {
   "cell_type": "markdown",
   "metadata": {},
   "source": [
    "Eigen values and Vectors-\n",
    "\n",
    "This are defined only for the square matrix. The eigen vectors can not be zeros values may be equal to zeros\n",
    "\n",
    "Av=Iλv\n",
    "\n",
    "where a is square matrix \n",
    "\n",
    "λ is Eigen value \n",
    "\n",
    "v is Eigen vector \n",
    "\n",
    "det(a_λI)=0"
   ]
  },
  {
   "cell_type": "code",
   "execution_count": 24,
   "metadata": {},
   "outputs": [
    {
     "name": "stdout",
     "output_type": "stream",
     "text": [
      "[ 3.41742431 12.58257569]\n",
      "[[-0.74490545 -0.58243756]\n",
      " [ 0.66717004 -0.81287544]]\n"
     ]
    }
   ],
   "source": [
    "n=np.array([[7,4],[5,9]])\n",
    "e_val,e_vector=np.linalg.eig(n)\n",
    "print(e_val)\n",
    "print(e_vector)\n",
    "# the dertminat have two values so there have two values for eigen vectors and values "
   ]
  }
 ],
 "metadata": {
  "kernelspec": {
   "display_name": "Python 3",
   "language": "python",
   "name": "python3"
  },
  "language_info": {
   "codemirror_mode": {
    "name": "ipython",
    "version": 3
   },
   "file_extension": ".py",
   "mimetype": "text/x-python",
   "name": "python",
   "nbconvert_exporter": "python",
   "pygments_lexer": "ipython3",
   "version": "3.11.0"
  }
 },
 "nbformat": 4,
 "nbformat_minor": 2
}
